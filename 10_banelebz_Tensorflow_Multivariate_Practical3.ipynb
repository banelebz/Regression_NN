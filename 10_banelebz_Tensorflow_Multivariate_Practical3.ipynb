{
  "cells": [
    {
      "cell_type": "markdown",
      "metadata": {
        "id": "OpPhNErAUooE"
      },
      "source": [
        "## Regression as Neural Networks Practical\n"
      ]
    },
    {
      "cell_type": "markdown",
      "source": [
        "> *** GOOD JOB IN GENERAL. THE CODE WAS NICE PRESENTED AND THE MODEL COULD APPROXIMATE THE TARGET. FOR FURTHER IMPROVEMENT, MORE COMMENTS WOULD BE APPRECIATED AS WELL AS MORE DETAILS IN YOUR ANSWERS***"
      ],
      "metadata": {
        "id": "Lw-kejksohjT"
      }
    },
    {
      "cell_type": "code",
      "execution_count": null,
      "metadata": {
        "id": "U8M1nH2IzI7x"
      },
      "outputs": [],
      "source": [
        "import pandas\n",
        "import numpy as np\n",
        "np.random.seed(25) # for reproducibility\n",
        "import pandas\n",
        "import tensorflow as tf\n",
        "from tensorflow.keras import Sequential\n",
        "from tensorflow.keras.layers import Dense\n",
        "from tensorflow.keras import metrics\n",
        "from tensorflow.keras.wrappers.scikit_learn import KerasRegressor\n",
        "from sklearn.metrics import mean_squared_error\n",
        "from sklearn.preprocessing import StandardScaler\n",
        "from sklearn.model_selection import train_test_split\n",
        "import matplotlib.pyplot as plt"
      ]
    },
    {
      "cell_type": "code",
      "execution_count": null,
      "metadata": {
        "id": "wae_HjknzI8E"
      },
      "outputs": [],
      "source": [
        "dataframe = pandas.read_csv(\"https://raw.githubusercontent.com/eijaz1/Deep-Learning-in-Keras-Tutorial/master/data/hourly_wages_data.csv\")\n",
        "dataset = dataframe.values"
      ]
    },
    {
      "cell_type": "code",
      "execution_count": null,
      "metadata": {
        "colab": {
          "base_uri": "https://localhost:8080/",
          "height": 206
        },
        "id": "pM9-iHobzI8L",
        "outputId": "ff8af2c2-349d-48cc-dd12-2597b8752bda"
      },
      "outputs": [
        {
          "output_type": "execute_result",
          "data": {
            "text/html": [
              "\n",
              "  <div id=\"df-2d25bae4-4334-457f-8489-750fb73aefbe\">\n",
              "    <div class=\"colab-df-container\">\n",
              "      <div>\n",
              "<style scoped>\n",
              "    .dataframe tbody tr th:only-of-type {\n",
              "        vertical-align: middle;\n",
              "    }\n",
              "\n",
              "    .dataframe tbody tr th {\n",
              "        vertical-align: top;\n",
              "    }\n",
              "\n",
              "    .dataframe thead th {\n",
              "        text-align: right;\n",
              "    }\n",
              "</style>\n",
              "<table border=\"1\" class=\"dataframe\">\n",
              "  <thead>\n",
              "    <tr style=\"text-align: right;\">\n",
              "      <th></th>\n",
              "      <th>wage_per_hour</th>\n",
              "      <th>union</th>\n",
              "      <th>education_yrs</th>\n",
              "      <th>experience_yrs</th>\n",
              "      <th>age</th>\n",
              "      <th>female</th>\n",
              "      <th>marr</th>\n",
              "      <th>south</th>\n",
              "      <th>manufacturing</th>\n",
              "      <th>construction</th>\n",
              "    </tr>\n",
              "  </thead>\n",
              "  <tbody>\n",
              "    <tr>\n",
              "      <th>0</th>\n",
              "      <td>5.10</td>\n",
              "      <td>0</td>\n",
              "      <td>8</td>\n",
              "      <td>21</td>\n",
              "      <td>35</td>\n",
              "      <td>1</td>\n",
              "      <td>1</td>\n",
              "      <td>0</td>\n",
              "      <td>1</td>\n",
              "      <td>0</td>\n",
              "    </tr>\n",
              "    <tr>\n",
              "      <th>1</th>\n",
              "      <td>4.95</td>\n",
              "      <td>0</td>\n",
              "      <td>9</td>\n",
              "      <td>42</td>\n",
              "      <td>57</td>\n",
              "      <td>1</td>\n",
              "      <td>1</td>\n",
              "      <td>0</td>\n",
              "      <td>1</td>\n",
              "      <td>0</td>\n",
              "    </tr>\n",
              "    <tr>\n",
              "      <th>2</th>\n",
              "      <td>6.67</td>\n",
              "      <td>0</td>\n",
              "      <td>12</td>\n",
              "      <td>1</td>\n",
              "      <td>19</td>\n",
              "      <td>0</td>\n",
              "      <td>0</td>\n",
              "      <td>0</td>\n",
              "      <td>1</td>\n",
              "      <td>0</td>\n",
              "    </tr>\n",
              "    <tr>\n",
              "      <th>3</th>\n",
              "      <td>4.00</td>\n",
              "      <td>0</td>\n",
              "      <td>12</td>\n",
              "      <td>4</td>\n",
              "      <td>22</td>\n",
              "      <td>0</td>\n",
              "      <td>0</td>\n",
              "      <td>0</td>\n",
              "      <td>0</td>\n",
              "      <td>0</td>\n",
              "    </tr>\n",
              "    <tr>\n",
              "      <th>4</th>\n",
              "      <td>7.50</td>\n",
              "      <td>0</td>\n",
              "      <td>12</td>\n",
              "      <td>17</td>\n",
              "      <td>35</td>\n",
              "      <td>0</td>\n",
              "      <td>1</td>\n",
              "      <td>0</td>\n",
              "      <td>0</td>\n",
              "      <td>0</td>\n",
              "    </tr>\n",
              "  </tbody>\n",
              "</table>\n",
              "</div>\n",
              "      <button class=\"colab-df-convert\" onclick=\"convertToInteractive('df-2d25bae4-4334-457f-8489-750fb73aefbe')\"\n",
              "              title=\"Convert this dataframe to an interactive table.\"\n",
              "              style=\"display:none;\">\n",
              "        \n",
              "  <svg xmlns=\"http://www.w3.org/2000/svg\" height=\"24px\"viewBox=\"0 0 24 24\"\n",
              "       width=\"24px\">\n",
              "    <path d=\"M0 0h24v24H0V0z\" fill=\"none\"/>\n",
              "    <path d=\"M18.56 5.44l.94 2.06.94-2.06 2.06-.94-2.06-.94-.94-2.06-.94 2.06-2.06.94zm-11 1L8.5 8.5l.94-2.06 2.06-.94-2.06-.94L8.5 2.5l-.94 2.06-2.06.94zm10 10l.94 2.06.94-2.06 2.06-.94-2.06-.94-.94-2.06-.94 2.06-2.06.94z\"/><path d=\"M17.41 7.96l-1.37-1.37c-.4-.4-.92-.59-1.43-.59-.52 0-1.04.2-1.43.59L10.3 9.45l-7.72 7.72c-.78.78-.78 2.05 0 2.83L4 21.41c.39.39.9.59 1.41.59.51 0 1.02-.2 1.41-.59l7.78-7.78 2.81-2.81c.8-.78.8-2.07 0-2.86zM5.41 20L4 18.59l7.72-7.72 1.47 1.35L5.41 20z\"/>\n",
              "  </svg>\n",
              "      </button>\n",
              "      \n",
              "  <style>\n",
              "    .colab-df-container {\n",
              "      display:flex;\n",
              "      flex-wrap:wrap;\n",
              "      gap: 12px;\n",
              "    }\n",
              "\n",
              "    .colab-df-convert {\n",
              "      background-color: #E8F0FE;\n",
              "      border: none;\n",
              "      border-radius: 50%;\n",
              "      cursor: pointer;\n",
              "      display: none;\n",
              "      fill: #1967D2;\n",
              "      height: 32px;\n",
              "      padding: 0 0 0 0;\n",
              "      width: 32px;\n",
              "    }\n",
              "\n",
              "    .colab-df-convert:hover {\n",
              "      background-color: #E2EBFA;\n",
              "      box-shadow: 0px 1px 2px rgba(60, 64, 67, 0.3), 0px 1px 3px 1px rgba(60, 64, 67, 0.15);\n",
              "      fill: #174EA6;\n",
              "    }\n",
              "\n",
              "    [theme=dark] .colab-df-convert {\n",
              "      background-color: #3B4455;\n",
              "      fill: #D2E3FC;\n",
              "    }\n",
              "\n",
              "    [theme=dark] .colab-df-convert:hover {\n",
              "      background-color: #434B5C;\n",
              "      box-shadow: 0px 1px 3px 1px rgba(0, 0, 0, 0.15);\n",
              "      filter: drop-shadow(0px 1px 2px rgba(0, 0, 0, 0.3));\n",
              "      fill: #FFFFFF;\n",
              "    }\n",
              "  </style>\n",
              "\n",
              "      <script>\n",
              "        const buttonEl =\n",
              "          document.querySelector('#df-2d25bae4-4334-457f-8489-750fb73aefbe button.colab-df-convert');\n",
              "        buttonEl.style.display =\n",
              "          google.colab.kernel.accessAllowed ? 'block' : 'none';\n",
              "\n",
              "        async function convertToInteractive(key) {\n",
              "          const element = document.querySelector('#df-2d25bae4-4334-457f-8489-750fb73aefbe');\n",
              "          const dataTable =\n",
              "            await google.colab.kernel.invokeFunction('convertToInteractive',\n",
              "                                                     [key], {});\n",
              "          if (!dataTable) return;\n",
              "\n",
              "          const docLinkHtml = 'Like what you see? Visit the ' +\n",
              "            '<a target=\"_blank\" href=https://colab.research.google.com/notebooks/data_table.ipynb>data table notebook</a>'\n",
              "            + ' to learn more about interactive tables.';\n",
              "          element.innerHTML = '';\n",
              "          dataTable['output_type'] = 'display_data';\n",
              "          await google.colab.output.renderOutput(dataTable, element);\n",
              "          const docLink = document.createElement('div');\n",
              "          docLink.innerHTML = docLinkHtml;\n",
              "          element.appendChild(docLink);\n",
              "        }\n",
              "      </script>\n",
              "    </div>\n",
              "  </div>\n",
              "  "
            ],
            "text/plain": [
              "   wage_per_hour  union  education_yrs  ...  south  manufacturing  construction\n",
              "0           5.10      0              8  ...      0              1             0\n",
              "1           4.95      0              9  ...      0              1             0\n",
              "2           6.67      0             12  ...      0              1             0\n",
              "3           4.00      0             12  ...      0              0             0\n",
              "4           7.50      0             12  ...      0              0             0\n",
              "\n",
              "[5 rows x 10 columns]"
            ]
          },
          "metadata": {},
          "execution_count": 3
        }
      ],
      "source": [
        "dataframe.head()"
      ]
    },
    {
      "cell_type": "code",
      "execution_count": null,
      "metadata": {
        "id": "fpXOcpfNzI8f"
      },
      "outputs": [],
      "source": [
        "X = dataframe.drop(columns=['wage_per_hour']).values\n",
        "Y = dataframe['wage_per_hour'].values"
      ]
    },
    {
      "cell_type": "markdown",
      "source": [
        "> *** GOOD ***"
      ],
      "metadata": {
        "id": "PGJ5xwMPn6Av"
      }
    },
    {
      "cell_type": "markdown",
      "metadata": {
        "id": "6oR1T3-5XneW"
      },
      "source": [
        "## Check the shapes of the data"
      ]
    },
    {
      "cell_type": "code",
      "execution_count": null,
      "metadata": {
        "colab": {
          "base_uri": "https://localhost:8080/"
        },
        "id": "zQ6ekQ-FWWr9",
        "outputId": "9ec2dbe6-acb8-4585-ef14-e7ffa23da057"
      },
      "outputs": [
        {
          "output_type": "execute_result",
          "data": {
            "text/plain": [
              "(534, 9)"
            ]
          },
          "metadata": {},
          "execution_count": 5
        }
      ],
      "source": [
        "X.shape"
      ]
    },
    {
      "cell_type": "code",
      "execution_count": null,
      "metadata": {
        "colab": {
          "base_uri": "https://localhost:8080/"
        },
        "id": "Tnbl0YbYWimZ",
        "outputId": "c089d82b-325a-403a-bec4-ffe4d972c6b8"
      },
      "outputs": [
        {
          "output_type": "execute_result",
          "data": {
            "text/plain": [
              "(534,)"
            ]
          },
          "metadata": {},
          "execution_count": 6
        }
      ],
      "source": [
        "Y.shape"
      ]
    },
    {
      "cell_type": "markdown",
      "metadata": {
        "id": "HLali5btXqdQ"
      },
      "source": [
        "## Split the data into training and test data"
      ]
    },
    {
      "cell_type": "code",
      "execution_count": null,
      "metadata": {
        "id": "3YAj_4DuWio8"
      },
      "outputs": [],
      "source": [
        "X_train, X_test, Y_train, Y_test = train_test_split(X, Y, test_size=.3)"
      ]
    },
    {
      "cell_type": "code",
      "execution_count": null,
      "metadata": {
        "id": "ciYrjwOgWirT"
      },
      "outputs": [],
      "source": [
        "# define the model\n",
        "def baseline():\n",
        "    # create model\n",
        "    model = Sequential()\n",
        "    \n",
        "    # add one fully connected layer\n",
        "    model.add(Dense(units = 8, input_dim=9, activation='relu'))\n",
        "    # add a fully connected layer for the output\n",
        "    model.add(Dense(units=1, activation='relu'))    \n",
        "    # Compile model\n",
        "    model.compile(loss='mse', optimizer='adam',metrics=[metrics.mse])\n",
        "    \n",
        "    return model"
      ]
    },
    {
      "cell_type": "markdown",
      "source": [
        "> *** GOOD ***"
      ],
      "metadata": {
        "id": "TR3NJQiuoCml"
      }
    },
    {
      "cell_type": "markdown",
      "metadata": {
        "id": "YGHWJ60KYWK6"
      },
      "source": [
        "## Task: draw the network on paper"
      ]
    },
    {
      "cell_type": "code",
      "execution_count": null,
      "metadata": {
        "id": "mvu5WW2pWitj"
      },
      "outputs": [],
      "source": [
        "model = baseline()"
      ]
    },
    {
      "cell_type": "code",
      "execution_count": null,
      "metadata": {
        "colab": {
          "base_uri": "https://localhost:8080/"
        },
        "id": "x5S2adpOWivw",
        "outputId": "a0943cf8-8470-49fa-8a02-f4083d3418d3"
      },
      "outputs": [
        {
          "output_type": "stream",
          "name": "stdout",
          "text": [
            "Model: \"sequential\"\n",
            "_________________________________________________________________\n",
            " Layer (type)                Output Shape              Param #   \n",
            "=================================================================\n",
            " dense (Dense)               (None, 8)                 80        \n",
            "                                                                 \n",
            " dense_1 (Dense)             (None, 1)                 9         \n",
            "                                                                 \n",
            "=================================================================\n",
            "Total params: 89\n",
            "Trainable params: 89\n",
            "Non-trainable params: 0\n",
            "_________________________________________________________________\n"
          ]
        }
      ],
      "source": [
        "model.summary()"
      ]
    },
    {
      "cell_type": "markdown",
      "source": [
        "> *** GOOD ***"
      ],
      "metadata": {
        "id": "I-9FkNAboEyJ"
      }
    },
    {
      "cell_type": "markdown",
      "metadata": {
        "id": "m5Ny9ySXZoBe"
      },
      "source": [
        "## Train the model"
      ]
    },
    {
      "cell_type": "code",
      "execution_count": null,
      "metadata": {
        "colab": {
          "base_uri": "https://localhost:8080/"
        },
        "id": "5W2apPWhWiyH",
        "outputId": "0490d29b-2c29-4239-a112-0f91d884befc"
      },
      "outputs": [
        {
          "output_type": "stream",
          "name": "stdout",
          "text": [
            "Epoch 1/24\n",
            "94/94 [==============================] - 1s 2ms/step - loss: 42.8464 - mean_squared_error: 42.8464\n",
            "Epoch 2/24\n",
            "94/94 [==============================] - 0s 2ms/step - loss: 33.7987 - mean_squared_error: 33.7987\n",
            "Epoch 3/24\n",
            "94/94 [==============================] - 0s 1ms/step - loss: 29.1673 - mean_squared_error: 29.1673\n",
            "Epoch 4/24\n",
            "94/94 [==============================] - 0s 2ms/step - loss: 26.6337 - mean_squared_error: 26.6337\n",
            "Epoch 5/24\n",
            "94/94 [==============================] - 0s 2ms/step - loss: 24.6900 - mean_squared_error: 24.6900\n",
            "Epoch 6/24\n",
            "94/94 [==============================] - 0s 2ms/step - loss: 24.1482 - mean_squared_error: 24.1482\n",
            "Epoch 7/24\n",
            "94/94 [==============================] - 0s 2ms/step - loss: 23.2338 - mean_squared_error: 23.2338\n",
            "Epoch 8/24\n",
            "94/94 [==============================] - 0s 2ms/step - loss: 23.1161 - mean_squared_error: 23.1161\n",
            "Epoch 9/24\n",
            "94/94 [==============================] - 0s 1ms/step - loss: 22.6996 - mean_squared_error: 22.6996\n",
            "Epoch 10/24\n",
            "94/94 [==============================] - 0s 2ms/step - loss: 22.9282 - mean_squared_error: 22.9282\n",
            "Epoch 11/24\n",
            "94/94 [==============================] - 0s 2ms/step - loss: 22.4709 - mean_squared_error: 22.4709\n",
            "Epoch 12/24\n",
            "94/94 [==============================] - 0s 1ms/step - loss: 22.7105 - mean_squared_error: 22.7105\n",
            "Epoch 13/24\n",
            "94/94 [==============================] - 0s 2ms/step - loss: 22.4752 - mean_squared_error: 22.4752\n",
            "Epoch 14/24\n",
            "94/94 [==============================] - 0s 2ms/step - loss: 22.1042 - mean_squared_error: 22.1042\n",
            "Epoch 15/24\n",
            "94/94 [==============================] - 0s 2ms/step - loss: 22.2455 - mean_squared_error: 22.2455\n",
            "Epoch 16/24\n",
            "94/94 [==============================] - 0s 2ms/step - loss: 22.1465 - mean_squared_error: 22.1465\n",
            "Epoch 17/24\n",
            "94/94 [==============================] - 0s 3ms/step - loss: 22.3252 - mean_squared_error: 22.3252\n",
            "Epoch 18/24\n",
            "94/94 [==============================] - 0s 3ms/step - loss: 22.2154 - mean_squared_error: 22.2154\n",
            "Epoch 19/24\n",
            "94/94 [==============================] - 0s 3ms/step - loss: 21.8529 - mean_squared_error: 21.8529\n",
            "Epoch 20/24\n",
            "94/94 [==============================] - 0s 3ms/step - loss: 21.8070 - mean_squared_error: 21.8070\n",
            "Epoch 21/24\n",
            "94/94 [==============================] - 0s 2ms/step - loss: 22.0952 - mean_squared_error: 22.0952\n",
            "Epoch 22/24\n",
            "94/94 [==============================] - 0s 3ms/step - loss: 21.8509 - mean_squared_error: 21.8509\n",
            "Epoch 23/24\n",
            "94/94 [==============================] - 0s 4ms/step - loss: 21.6577 - mean_squared_error: 21.6577\n",
            "Epoch 24/24\n",
            "94/94 [==============================] - 0s 3ms/step - loss: 21.7918 - mean_squared_error: 21.7918\n"
          ]
        }
      ],
      "source": [
        "history = model.fit(X_train, Y_train, epochs=24, batch_size=4, verbose=1)"
      ]
    },
    {
      "cell_type": "markdown",
      "source": [
        "> *** GOOD ***"
      ],
      "metadata": {
        "id": "j5jPDDM9oHkE"
      }
    },
    {
      "cell_type": "code",
      "execution_count": null,
      "metadata": {
        "id": "lMNEiUfTWi02"
      },
      "outputs": [],
      "source": [
        ""
      ]
    },
    {
      "cell_type": "markdown",
      "metadata": {
        "id": "_Z8xJnwsaKIF"
      },
      "source": [
        "## Predict on the test data"
      ]
    },
    {
      "cell_type": "code",
      "execution_count": null,
      "metadata": {
        "id": "Maw1bm9GWi3t"
      },
      "outputs": [],
      "source": [
        "prediction = model.predict(X_test)"
      ]
    },
    {
      "cell_type": "markdown",
      "metadata": {
        "id": "OkSSD1BuaRke"
      },
      "source": [
        "## Compute the mean squared error"
      ]
    },
    {
      "cell_type": "code",
      "execution_count": null,
      "metadata": {
        "colab": {
          "base_uri": "https://localhost:8080/"
        },
        "id": "ZjQcXcSKaR7D",
        "outputId": "41020060-9ee9-428b-8042-776d1390a1a1"
      },
      "outputs": [
        {
          "output_type": "execute_result",
          "data": {
            "text/plain": [
              "16.88376570623"
            ]
          },
          "metadata": {},
          "execution_count": 13
        }
      ],
      "source": [
        "mean_squared_error(Y_test, prediction)"
      ]
    },
    {
      "cell_type": "markdown",
      "metadata": {
        "id": "9Vy-V5Koaf9x"
      },
      "source": [
        "## Plot the error over the epochs"
      ]
    },
    {
      "cell_type": "code",
      "execution_count": null,
      "metadata": {
        "colab": {
          "base_uri": "https://localhost:8080/",
          "height": 513
        },
        "id": "u0UAL194aSpX",
        "outputId": "08a3b724-2537-4a55-e6dd-ecff3fd25121"
      },
      "outputs": [
        {
          "output_type": "display_data",
          "data": {
            "image/png": "[encoded data removed]",
            "text/plain": [
              "<Figure size 576x576 with 1 Axes>"
            ]
          },
          "metadata": {
            "needs_background": "light"
          }
        }
      ],
      "source": [
        "plt.figure(figsize=(8, 8))\n",
        "plt.plot(history.history['mean_squared_error'])\n",
        "plt.title('Model loss')\n",
        "plt.ylabel('Mean Squared Error')\n",
        "plt.xlabel('Epoch')\n",
        "plt.show()"
      ]
    },
    {
      "cell_type": "markdown",
      "metadata": {
        "id": "x6C2LwEIE5X9"
      },
      "source": [
        "As the epoch increase the mean square error decrease so the more the epochs the better the predictions become"
      ]
    },
    {
      "cell_type": "markdown",
      "source": [
        "> *** GOOD. CAN YOU GIVE MORE DETAILS IN THE INTERPRETATION OF THIS RESULT? ***"
      ],
      "metadata": {
        "id": "bQBA8mVroMbE"
      }
    },
    {
      "cell_type": "markdown",
      "metadata": {
        "id": "pQJlhOrKAMfS"
      },
      "source": [
        "#Answers to Questions"
      ]
    },
    {
      "cell_type": "markdown",
      "metadata": {
        "id": "wSzERxQW7uSJ"
      },
      "source": [
        "1) They are 9 inputs"
      ]
    },
    {
      "cell_type": "markdown",
      "metadata": {
        "id": "RWA6QrW67udB"
      },
      "source": [
        "2) They is 1 output"
      ]
    },
    {
      "cell_type": "markdown",
      "metadata": {
        "id": "cqxbrv938MDZ"
      },
      "source": [
        "3)  We are trying to predict the hourly wage of people based on different feautures"
      ]
    },
    {
      "cell_type": "markdown",
      "source": [
        "> *** SAME REMARK AS ABOVE ***"
      ],
      "metadata": {
        "id": "dWOD52w2ocNr"
      }
    },
    {
      "cell_type": "code",
      "execution_count": null,
      "metadata": {
        "id": "L0Ew0f31aSxS"
      },
      "outputs": [],
      "source": [
        ""
      ]
    },
    {
      "cell_type": "markdown",
      "metadata": {
        "id": "VPTprliYUGtV"
      },
      "source": [
        "Total marks: 21\n",
        "\n",
        "Columns 2 to 10 represent the features of the dataset. The first column is the target. Answer the following questions\n",
        "\n",
        "The dataset represents characteristics of people along with the associated salary earned per hour (in some scaled currency).\n",
        "\n",
        "1) How many inputs would a neural network have if we tried to solve this problem?\n",
        "\n",
        "2) How many outputs would the neural network have?\n",
        "\n",
        "3) What is the goal here? What are we trying to achieve with machine learning?\n",
        "\n",
        "<hr>\n",
        "\n",
        "Implement a neural network in Tensorflow.\n",
        "\n",
        "The total number of weights within the model should be less than 100. Make sure to print the number of parameters within your model.\n",
        "\n",
        "Train for 24 epochs and use a batch size of 4. \n",
        "\n",
        "Predict on testing data (split the data into training and testing).\n",
        "\n",
        "Determine the mean squared error on the test data\n",
        "\n",
        "Plot the training loss and comment on the plot."
      ]
    },
    {
      "cell_type": "code",
      "execution_count": null,
      "metadata": {
        "id": "80xAA_hVVDV0"
      },
      "outputs": [],
      "source": [
        ""
      ]
    }
  ],
  "metadata": {
    "colab": {
      "collapsed_sections": [],
      "name": "10 banelebz-Tensorflow Multivariate Practical3.ipynb",
      "provenance": []
    },
    "kernelspec": {
      "display_name": "Python 3",
      "language": "python",
      "name": "python3"
    },
    "language_info": {
      "codemirror_mode": {
        "name": "ipython",
        "version": 3
      },
      "file_extension": ".py",
      "mimetype": "text/x-python",
      "name": "python",
      "nbconvert_exporter": "python",
      "pygments_lexer": "ipython3",
      "version": "3.9.2"
    }
  },
  "nbformat": 4,
  "nbformat_minor": 0
}